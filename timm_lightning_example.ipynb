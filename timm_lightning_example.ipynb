{
 "cells": [
  {
   "cell_type": "markdown",
   "source": [
    "## TIMM/PyTorch Lightning Example\n",
    "Following along with this [medium article](https://medium.com/data-science-at-microsoft/training-efficientdet-on-custom-data-with-pytorch-lightning-using-an-efficientnetv2-backbone-1cdf3bd7921f).\n",
    "It describes how to perform transfer learning on a model from TIMM using PyTorch Lightning."
   ],
   "metadata": {
    "collapsed": false
   }
  },
  {
   "cell_type": "code",
   "execution_count": 1,
   "outputs": [],
   "source": [
    "import timm"
   ],
   "metadata": {
    "collapsed": false
   }
  },
  {
   "cell_type": "code",
   "execution_count": 2,
   "outputs": [
    {
     "data": {
      "text/plain": "['efficientformer_l1',\n 'efficientformer_l3',\n 'efficientformer_l7',\n 'efficientnet_b0',\n 'efficientnet_b1',\n 'efficientnet_b1_pruned',\n 'efficientnet_b2',\n 'efficientnet_b2_pruned',\n 'efficientnet_b3',\n 'efficientnet_b3_pruned',\n 'efficientnet_b4',\n 'efficientnet_el',\n 'efficientnet_el_pruned',\n 'efficientnet_em',\n 'efficientnet_es',\n 'efficientnet_es_pruned',\n 'efficientnet_lite0',\n 'efficientnetv2_rw_m',\n 'efficientnetv2_rw_s',\n 'efficientnetv2_rw_t']"
     },
     "execution_count": 2,
     "metadata": {},
     "output_type": "execute_result"
    }
   ],
   "source": [
    "timm.list_models('eff*', pretrained=True)"
   ],
   "metadata": {
    "collapsed": false
   }
  },
  {
   "cell_type": "code",
   "execution_count": 3,
   "outputs": [
    {
     "name": "stdout",
     "output_type": "stream",
     "text": [
      "number of configs: 47\n"
     ]
    },
    {
     "data": {
      "text/plain": "['efficientdet_d0',\n 'efficientdet_d3',\n 'efficientdetv2_dt',\n 'cspresdet50',\n 'cspdarkdet53',\n 'mixdet_l',\n 'mobiledetv3_large',\n 'efficientdet_q2',\n 'efficientdet_em',\n 'tf_efficientdet_d1',\n 'tf_efficientdet_d4',\n 'tf_efficientdet_d7',\n 'tf_efficientdet_d1_ap',\n 'tf_efficientdet_d4_ap',\n 'tf_efficientdet_lite1',\n 'tf_efficientdet_lite3x']"
     },
     "execution_count": 3,
     "metadata": {},
     "output_type": "execute_result"
    }
   ],
   "source": [
    "from effdet.config.model_config import efficientdet_model_param_dict\n",
    "print(f'number of configs: {len(efficientdet_model_param_dict)}')\n",
    "list(efficientdet_model_param_dict.keys())[::3]"
   ],
   "metadata": {
    "collapsed": false
   }
  },
  {
   "cell_type": "code",
   "execution_count": null,
   "outputs": [],
   "source": [
    "# TODO: After I create this model in effdet, can I list it out like you can with timm models? See other notebook\n"
   ],
   "metadata": {
    "collapsed": false
   }
  }
 ],
 "metadata": {
  "kernelspec": {
   "display_name": "Python 3",
   "language": "python",
   "name": "python3"
  },
  "language_info": {
   "codemirror_mode": {
    "name": "ipython",
    "version": 2
   },
   "file_extension": ".py",
   "mimetype": "text/x-python",
   "name": "python",
   "nbconvert_exporter": "python",
   "pygments_lexer": "ipython2",
   "version": "2.7.6"
  }
 },
 "nbformat": 4,
 "nbformat_minor": 0
}
