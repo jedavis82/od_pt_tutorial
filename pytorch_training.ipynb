{
 "cells": [
  {
   "cell_type": "markdown",
   "source": [
    "# Fine Tuning a PyTorch Model on Our Fruits Dataset\n",
    "This notebook will demonstrate how to use PyTorch to fine tune a pre-existing object detection model for our fruits data set.\n",
    "\n",
    "We will start by loading a pre-trained Faster RCNN model using the PyTorch library and modify it so that it can classify the various fruits in our data set.\n",
    "\n",
    "Afterwards, we will write our training, evaluation, and testing loops used for training our model.\n",
    "Our custom Dataset class will be used in combination with a DataLoader for batching our data for training.\n",
    "During training, we will set it up so that if training is interrupted it can be resumed from where it stopped.\n",
    "We will see how to save our \"best\" model found during our training loop.\n",
    "Once training is completed, we will use our test data set to evaluate the precision, recall, and accuracy of our model.\n",
    "\n",
    "Finally, we will discuss next steps, including making our model work with the PyTorch lightning framework."
   ],
   "metadata": {
    "collapsed": false
   }
  },
  {
   "cell_type": "code",
   "execution_count": null,
   "outputs": [],
   "source": [],
   "metadata": {
    "collapsed": false
   }
  }
 ],
 "metadata": {
  "kernelspec": {
   "display_name": "Python 3",
   "language": "python",
   "name": "python3"
  },
  "language_info": {
   "codemirror_mode": {
    "name": "ipython",
    "version": 2
   },
   "file_extension": ".py",
   "mimetype": "text/x-python",
   "name": "python",
   "nbconvert_exporter": "python",
   "pygments_lexer": "ipython2",
   "version": "2.7.6"
  }
 },
 "nbformat": 4,
 "nbformat_minor": 0
}
